{
  "nbformat": 4,
  "nbformat_minor": 0,
  "metadata": {
    "colab": {
      "provenance": []
    },
    "kernelspec": {
      "name": "python3",
      "display_name": "Python 3"
    },
    "language_info": {
      "name": "python"
    }
  },
  "cells": [
    {
      "cell_type": "code",
      "execution_count": 3,
      "metadata": {
        "colab": {
          "base_uri": "https://localhost:8080/"
        },
        "id": "LymAW2CiEI85",
        "outputId": "686aa029-21ba-4bb9-980e-b4d79ae7cac1"
      },
      "outputs": [
        {
          "output_type": "stream",
          "name": "stdout",
          "text": [
            "Email No.     object\n",
            "the            int64\n",
            "to             int64\n",
            "ect            int64\n",
            "and            int64\n",
            "               ...  \n",
            "military       int64\n",
            "allowing       int64\n",
            "ff             int64\n",
            "dry            int64\n",
            "Prediction     int64\n",
            "Length: 3002, dtype: object\n",
            "NaN values in X: 0\n",
            "NaN values in y: 0\n",
            "KNN Classification Report:\n",
            "              precision    recall  f1-score   support\n",
            "\n",
            "           0       0.93      0.87      0.90       739\n",
            "           1       0.73      0.84      0.78       296\n",
            "\n",
            "    accuracy                           0.86      1035\n",
            "   macro avg       0.83      0.86      0.84      1035\n",
            "weighted avg       0.87      0.86      0.87      1035\n",
            "\n",
            "KNN Accuracy: 0.8628019323671497\n",
            "SVM Classification Report:\n",
            "              precision    recall  f1-score   support\n",
            "\n",
            "           0       0.98      0.97      0.97       739\n",
            "           1       0.92      0.94      0.93       296\n",
            "\n",
            "    accuracy                           0.96      1035\n",
            "   macro avg       0.95      0.95      0.95      1035\n",
            "weighted avg       0.96      0.96      0.96      1035\n",
            "\n",
            "SVM Accuracy: 0.9594202898550724\n"
          ]
        }
      ],
      "source": [
        "import pandas as pd\n",
        "from sklearn.model_selection import train_test_split\n",
        "from sklearn.neighbors import KNeighborsClassifier\n",
        "from sklearn.svm import SVC\n",
        "from sklearn.metrics import classification_report, accuracy_score\n",
        "\n",
        "# Load your dataset\n",
        "data = pd.read_csv('emails.csv')\n",
        "\n",
        "# Inspect the data types and check for unexpected types\n",
        "print(data.dtypes)\n",
        "\n",
        "# Drop non-numeric columns, keeping only numeric ones for X\n",
        "X = data.drop(columns=['Prediction'])  # All columns except 'Prediction'\n",
        "X = X.select_dtypes(include=['int64', 'float64'])  # Keep only integer and float columns\n",
        "\n",
        "# Ensure y is numeric (0 and 1)\n",
        "y = data['Prediction'].astype(int)  # Convert to integer type\n",
        "\n",
        "# Check for NaN values in X and y\n",
        "print(\"NaN values in X:\", X.isna().sum().sum())\n",
        "print(\"NaN values in y:\", y.isna().sum())\n",
        "\n",
        "# Drop rows with NaN values in features\n",
        "X = X.dropna()\n",
        "y = y[X.index]  # Ensure y aligns with the features after dropping NaN values\n",
        "\n",
        "# Split the dataset into training and testing sets\n",
        "X_train, X_test, y_train, y_test = train_test_split(X.to_numpy(), y.to_numpy(), test_size=0.2, random_state=42)\n",
        "\n",
        "# K-Nearest Neighbors Classification\n",
        "knn = KNeighborsClassifier(n_neighbors=5)\n",
        "knn.fit(X_train, y_train)\n",
        "y_pred_knn = knn.predict(X_test)\n",
        "\n",
        "# Support Vector Machine Classification\n",
        "svm = SVC(kernel='linear')\n",
        "svm.fit(X_train, y_train)\n",
        "y_pred_svm = svm.predict(X_test)\n",
        "\n",
        "# Performance Analysis\n",
        "print(\"KNN Classification Report:\")\n",
        "print(classification_report(y_test, y_pred_knn))\n",
        "print(\"KNN Accuracy:\", accuracy_score(y_test, y_pred_knn))\n",
        "\n",
        "print(\"SVM Classification Report:\")\n",
        "print(classification_report(y_test, y_pred_svm))\n",
        "print(\"SVM Accuracy:\", accuracy_score(y_test, y_pred_svm))\n"
      ]
    }
  ]
}